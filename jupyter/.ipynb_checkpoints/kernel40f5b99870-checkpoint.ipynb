{
 "cells": [
  {
   "cell_type": "code",
   "execution_count": 1,
   "metadata": {
    "_cell_guid": "b1076dfc-b9ad-4769-8c92-a6c4dae69d19",
    "_uuid": "8f2839f25d086af736a60e9eeb907d3b93b6e0e5"
   },
   "outputs": [],
   "source": [
    "# This Python 3 environment comes with many helpful analytics libraries installed\n",
    "# It is defined by the kaggle/python docker image: https://github.com/kaggle/docker-python\n",
    "# For example, here's several helpful packages to load in \n",
    "\n",
    "import numpy as np # linear algebra\n",
    "import pandas as pd # data processing, CSV file I/O (e.g. pd.read_csv)\n",
    "\n",
    "# Input data files are available in the \"../input/\" directory.\n",
    "# For example, running this (by clicking run or pressing Shift+Enter) will list all files under the input directory\n",
    "\n",
    "import os\n",
    "for dirname, _, filenames in os.walk('/kaggle/input'):\n",
    "    for filename in filenames:\n",
    "        print(os.path.join(dirname, filename))\n",
    "\n",
    "# Any results you write to the current directory are saved as output."
   ]
  },
  {
   "cell_type": "code",
   "execution_count": 2,
   "metadata": {},
   "outputs": [
    {
     "name": "stdout",
     "output_type": "stream",
     "text": [
      "Archive:  /home/workspace/data/bitcoin-historical-data.zip\n",
      "  inflating: bitstampUSD_1-min_data_2012-01-01_to_2019-08-12.csv  \n",
      "  inflating: coinbaseUSD_1-min_data_2014-12-01_to_2019-01-09.csv  \n"
     ]
    }
   ],
   "source": [
    "!unzip /home/workspace/data/bitcoin-historical-data.zip "
   ]
  },
  {
   "cell_type": "code",
   "execution_count": 2,
   "metadata": {
    "_cell_guid": "",
    "_uuid": ""
   },
   "outputs": [],
   "source": [
    "import pandas as pd\n",
    "df = pd.read_csv(\"coinbaseUSD_1-min_data_2014-12-01_to_2019-01-09.csv\")"
   ]
  },
  {
   "cell_type": "markdown",
   "metadata": {},
   "source": [
    "# add rolling window 2d processor"
   ]
  },
  {
   "cell_type": "code",
   "execution_count": 3,
   "metadata": {},
   "outputs": [],
   "source": [
    "def rolling_window_2d(a, window):\n",
    "    nrow, ncol = a.shape\n",
    "    shape = nrow - window, window, ncol\n",
    "    strides = a.strides[0], a.strides[0], a.strides[-1]\n",
    "    return np.lib.stride_tricks.as_strided(a, shape=shape, strides=strides)"
   ]
  },
  {
   "cell_type": "markdown",
   "metadata": {},
   "source": [
    "# create generator for training\n",
    "I use all of columns for predict the next diff, but data scale is not static, so I standardize it."
   ]
  },
  {
   "cell_type": "code",
   "execution_count": 4,
   "metadata": {},
   "outputs": [],
   "source": [
    "from sklearn.model_selection import train_test_split\n",
    "from sklearn.preprocessing import MinMaxScaler\n",
    "from datetime import datetime "
   ]
  },
  {
   "cell_type": "markdown",
   "metadata": {},
   "source": [
    "## add some constant"
   ]
  },
  {
   "cell_type": "code",
   "execution_count": 5,
   "metadata": {},
   "outputs": [],
   "source": [
    "columns = [\"Open\", \"High\", \"Low\", \"Close\", \"Volume_(Currency)\"]\n",
    "window = 20\n",
    "how = {\n",
    "    \"Open\": 'first',\n",
    "    \"High\": 'max',\n",
    "    \"Low\": \"min\",\n",
    "    \"Close\": \"last\",\n",
    "    \"Volume_(Currency)\": 'sum'\n",
    "}\n"
   ]
  },
  {
   "cell_type": "markdown",
   "metadata": {},
   "source": [
    "## set dataframe index to unixtimestamp"
   ]
  },
  {
   "cell_type": "code",
   "execution_count": 6,
   "metadata": {},
   "outputs": [],
   "source": [
    "df.loc[:, \"datetime\"] = pd.to_datetime(df[\"Timestamp\"], unit='s')\n",
    "df = df.set_index(\"datetime\")"
   ]
  },
  {
   "cell_type": "markdown",
   "metadata": {},
   "source": [
    "## create 60min resolution dataframe"
   ]
  },
  {
   "cell_type": "code",
   "execution_count": 7,
   "metadata": {},
   "outputs": [
    {
     "name": "stderr",
     "output_type": "stream",
     "text": [
      "/usr/local/lib/python3.6/dist-packages/ipykernel_launcher.py:1: FutureWarning: how in .resample() is deprecated\n",
      "the new syntax is .resample(...)..apply(<func>)\n",
      "  \"\"\"Entry point for launching an IPython kernel.\n"
     ]
    }
   ],
   "source": [
    "df_60min = df.resample(\"60min\", how=how)\n",
    "df_train = df_60min[columns]\n",
    "df_train = df_train.bfill()\n",
    "diff = df_train.diff()"
   ]
  },
  {
   "cell_type": "markdown",
   "metadata": {},
   "source": [
    "## use valid data. (I think 2015~2017 data is not good for predict)"
   ]
  },
  {
   "cell_type": "code",
   "execution_count": 8,
   "metadata": {},
   "outputs": [
    {
     "data": {
      "text/html": [
       "<div>\n",
       "<style scoped>\n",
       "    .dataframe tbody tr th:only-of-type {\n",
       "        vertical-align: middle;\n",
       "    }\n",
       "\n",
       "    .dataframe tbody tr th {\n",
       "        vertical-align: top;\n",
       "    }\n",
       "\n",
       "    .dataframe thead th {\n",
       "        text-align: right;\n",
       "    }\n",
       "</style>\n",
       "<table border=\"1\" class=\"dataframe\">\n",
       "  <thead>\n",
       "    <tr style=\"text-align: right;\">\n",
       "      <th></th>\n",
       "      <th>Open</th>\n",
       "      <th>High</th>\n",
       "      <th>Low</th>\n",
       "      <th>Close</th>\n",
       "      <th>Volume_(Currency)</th>\n",
       "    </tr>\n",
       "    <tr>\n",
       "      <th>datetime</th>\n",
       "      <th></th>\n",
       "      <th></th>\n",
       "      <th></th>\n",
       "      <th></th>\n",
       "      <th></th>\n",
       "    </tr>\n",
       "  </thead>\n",
       "  <tbody>\n",
       "    <tr>\n",
       "      <th>2017-07-01 00:00:00</th>\n",
       "      <td>2.19</td>\n",
       "      <td>8.43</td>\n",
       "      <td>6.03</td>\n",
       "      <td>5.84</td>\n",
       "      <td>-1.164132e+06</td>\n",
       "    </tr>\n",
       "    <tr>\n",
       "      <th>2017-07-01 01:00:00</th>\n",
       "      <td>5.85</td>\n",
       "      <td>0.90</td>\n",
       "      <td>-11.16</td>\n",
       "      <td>-19.92</td>\n",
       "      <td>1.459702e+05</td>\n",
       "    </tr>\n",
       "    <tr>\n",
       "      <th>2017-07-01 02:00:00</th>\n",
       "      <td>-19.95</td>\n",
       "      <td>-25.09</td>\n",
       "      <td>-13.04</td>\n",
       "      <td>-3.24</td>\n",
       "      <td>1.996594e+05</td>\n",
       "    </tr>\n",
       "    <tr>\n",
       "      <th>2017-07-01 03:00:00</th>\n",
       "      <td>-2.75</td>\n",
       "      <td>0.91</td>\n",
       "      <td>4.11</td>\n",
       "      <td>-1.76</td>\n",
       "      <td>-4.094932e+05</td>\n",
       "    </tr>\n",
       "    <tr>\n",
       "      <th>2017-07-01 04:00:00</th>\n",
       "      <td>-2.23</td>\n",
       "      <td>17.27</td>\n",
       "      <td>-1.34</td>\n",
       "      <td>26.31</td>\n",
       "      <td>-2.574444e+03</td>\n",
       "    </tr>\n",
       "    <tr>\n",
       "      <th>...</th>\n",
       "      <td>...</td>\n",
       "      <td>...</td>\n",
       "      <td>...</td>\n",
       "      <td>...</td>\n",
       "      <td>...</td>\n",
       "    </tr>\n",
       "    <tr>\n",
       "      <th>2019-01-07 18:00:00</th>\n",
       "      <td>-4.01</td>\n",
       "      <td>3.52</td>\n",
       "      <td>35.72</td>\n",
       "      <td>0.43</td>\n",
       "      <td>-1.021929e+06</td>\n",
       "    </tr>\n",
       "    <tr>\n",
       "      <th>2019-01-07 19:00:00</th>\n",
       "      <td>-0.45</td>\n",
       "      <td>-5.52</td>\n",
       "      <td>3.23</td>\n",
       "      <td>8.44</td>\n",
       "      <td>-3.768007e+05</td>\n",
       "    </tr>\n",
       "    <tr>\n",
       "      <th>2019-01-07 20:00:00</th>\n",
       "      <td>8.45</td>\n",
       "      <td>1.00</td>\n",
       "      <td>-15.00</td>\n",
       "      <td>-17.28</td>\n",
       "      <td>1.586159e+06</td>\n",
       "    </tr>\n",
       "    <tr>\n",
       "      <th>2019-01-07 21:00:00</th>\n",
       "      <td>-17.27</td>\n",
       "      <td>-6.70</td>\n",
       "      <td>0.24</td>\n",
       "      <td>-0.15</td>\n",
       "      <td>-1.358204e+06</td>\n",
       "    </tr>\n",
       "    <tr>\n",
       "      <th>2019-01-07 22:00:00</th>\n",
       "      <td>-0.17</td>\n",
       "      <td>-11.73</td>\n",
       "      <td>5.26</td>\n",
       "      <td>-0.58</td>\n",
       "      <td>-1.674413e+06</td>\n",
       "    </tr>\n",
       "  </tbody>\n",
       "</table>\n",
       "<p>13343 rows × 5 columns</p>\n",
       "</div>"
      ],
      "text/plain": [
       "                      Open   High    Low  Close  Volume_(Currency)\n",
       "datetime                                                          \n",
       "2017-07-01 00:00:00   2.19   8.43   6.03   5.84      -1.164132e+06\n",
       "2017-07-01 01:00:00   5.85   0.90 -11.16 -19.92       1.459702e+05\n",
       "2017-07-01 02:00:00 -19.95 -25.09 -13.04  -3.24       1.996594e+05\n",
       "2017-07-01 03:00:00  -2.75   0.91   4.11  -1.76      -4.094932e+05\n",
       "2017-07-01 04:00:00  -2.23  17.27  -1.34  26.31      -2.574444e+03\n",
       "...                    ...    ...    ...    ...                ...\n",
       "2019-01-07 18:00:00  -4.01   3.52  35.72   0.43      -1.021929e+06\n",
       "2019-01-07 19:00:00  -0.45  -5.52   3.23   8.44      -3.768007e+05\n",
       "2019-01-07 20:00:00   8.45   1.00 -15.00 -17.28       1.586159e+06\n",
       "2019-01-07 21:00:00 -17.27  -6.70   0.24  -0.15      -1.358204e+06\n",
       "2019-01-07 22:00:00  -0.17 -11.73   5.26  -0.58      -1.674413e+06\n",
       "\n",
       "[13343 rows x 5 columns]"
      ]
     },
     "execution_count": 8,
     "metadata": {},
     "output_type": "execute_result"
    }
   ],
   "source": [
    "df = diff[datetime(2017, 7, 1):]\n",
    "df"
   ]
  },
  {
   "cell_type": "markdown",
   "metadata": {},
   "source": [
    "## del nan"
   ]
  },
  {
   "cell_type": "code",
   "execution_count": 9,
   "metadata": {},
   "outputs": [],
   "source": [
    "diff = df.dropna()\n",
    "train_diff = diff[:4*len(diff)//6]\n",
    "valid_diff = diff[4*len(diff)//6:5*len(diff)//6]\n",
    "test_diff = diff[5*len(diff)//6:]\n",
    "\n"
   ]
  },
  {
   "cell_type": "markdown",
   "metadata": {},
   "source": [
    "## create rolling window numpy matrix."
   ]
  },
  {
   "cell_type": "code",
   "execution_count": 10,
   "metadata": {},
   "outputs": [],
   "source": [
    "train_diff_rolling_window = rolling_window_2d(a=train_diff.values, window=window)\n",
    "valid_diff_rolling_window = rolling_window_2d(a=valid_diff.values, window=window)"
   ]
  },
  {
   "cell_type": "markdown",
   "metadata": {},
   "source": [
    "## create data generator\n",
    "Min max normalizing to improve predict\n",
    "\n",
    "y = close price of next\n",
    "\n",
    "x = all value"
   ]
  },
  {
   "cell_type": "code",
   "execution_count": 11,
   "metadata": {},
   "outputs": [],
   "source": [
    "def min_max(x, axis=None):\n",
    "    min = x.min(axis=axis, keepdims=True)\n",
    "    max = x.max(axis=axis, keepdims=True)\n",
    "    result = (x-min)/(max-min)\n",
    "    return result"
   ]
  },
  {
   "cell_type": "code",
   "execution_count": 12,
   "metadata": {},
   "outputs": [],
   "source": [
    "from torch.utils.data import DataLoader\n",
    "from scipy import stats\n",
    "def collate_fn(data):\n",
    "    winz = np.array(data)\n",
    "    winz = min_max(winz, axis=1)\n",
    "    y = winz[:, -1, 3]\n",
    "    x = winz[:, :-1]\n",
    "    if cuda:\n",
    "        return torch.tensor(x, dtype=torch.float32, device='cuda'), torch.tensor(y, dtype=torch.float32, device='cuda')\n",
    "    else:\n",
    "        return torch.tensor(x, dtype=torch.float32), torch.tensor(y, dtype=torch.float32)\n",
    "    \n",
    "        "
   ]
  },
  {
   "cell_type": "markdown",
   "metadata": {},
   "source": [
    "## create GRU network via pytorch "
   ]
  },
  {
   "cell_type": "code",
   "execution_count": 13,
   "metadata": {},
   "outputs": [],
   "source": [
    "import torch.nn as nn\n",
    "from torch import zeros\n",
    "import torch\n",
    "from torch import optim\n",
    "import torch.nn.functional as F\n",
    "class GRUNet(nn.Module):\n",
    "    def __init__(self, input_dim, hidden_dim, output_dim, n_layers, drop_prob=0.5):\n",
    "        super(GRUNet, self).__init__()\n",
    "        self.hidden_dim = hidden_dim\n",
    "        self.n_layers = n_layers\n",
    "        \n",
    "        self.gru = nn.GRU(input_dim, hidden_dim, n_layers, batch_first=True, dropout=drop_prob)\n",
    "        self.fc = nn.Linear(hidden_dim, output_dim)\n",
    "        self.sigmoid = nn.Sigmoid()\n",
    "        self.relu = nn.ReLU()\n",
    "        \n",
    "\n",
    "        \n",
    "    def forward(self, x, h=None):\n",
    "        out, h = self.gru(x, h)\n",
    "        out = self.sigmoid(self.fc(self.relu(out[:,-1])))\n",
    "        return out\n",
    "    "
   ]
  },
  {
   "cell_type": "code",
   "execution_count": 14,
   "metadata": {},
   "outputs": [],
   "source": [
    "from tqdm.notebook import tqdm\n",
    "input_dim = 5\n",
    "hidden_dim = 128\n",
    "n_layer = 5  # ONLY CHANGE IS HERE FROM ONE LAYER TO TWO LAYER\n",
    "output_dim = 1\n",
    "epoch = 100\n",
    "batch_size = 32\n",
    "cuda = True if torch.cuda.is_available() else False\n",
    "model = GRUNet(input_dim=input_dim, hidden_dim=hidden_dim, n_layers=n_layer, output_dim=output_dim)\n",
    "loss_function = nn.BCELoss()\n",
    "optimizer= optim.Adam(model.parameters(), lr=1e-3)\n",
    "train_data = DataLoader(train_diff_rolling_window , batch_size=batch_size, collate_fn=collate_fn)\n",
    "valid_data = DataLoader(valid_diff_rolling_window , batch_size=batch_size//2, collate_fn=collate_fn)\n",
    "data = dict(train=train_data, valid=valid_data)\n",
    "hidden_tensor = zeros(5, batch_size, hidden_dim)"
   ]
  },
  {
   "cell_type": "markdown",
   "metadata": {},
   "source": [
    "# Train gru network"
   ]
  },
  {
   "cell_type": "code",
   "execution_count": null,
   "metadata": {},
   "outputs": [],
   "source": [
    "epoch = 200\n",
    "\n",
    "print(hidden_tensor.shape)\n",
    "if cuda:\n",
    "    model.cuda()\n",
    "    hidden_tensor = hidden_tensor.float().cuda()\n",
    "else:\n",
    "    hidden_tensor = hidden_tensor\n",
    "hidden = nn.Parameter(hidden_tensor, requires_grad=True)\n",
    "\n",
    "for n in range(epoch):\n",
    "    print('Epoch {}/{}'.format(n, epoch - 1))\n",
    "    print('-' * 10)\n",
    "\n",
    "    for phase in [\"train\", \"valid\"]:\n",
    "        if phase == \"train\":\n",
    "            model.train(True)\n",
    "        else:\n",
    "            model.train(False)\n",
    "        epoch_loss = 0\n",
    "        for x, y in tqdm(data[phase]):\n",
    "            model.zero_grad()\n",
    "            train_outputs = model(x) # batch size x time steps x feature_num\n",
    "            loss = loss_function(train_outputs, y)\n",
    "            optimizer.zero_grad()\n",
    "            if phase == \"train\":\n",
    "                loss.backward()\n",
    "                optimizer.step()\n",
    "            epoch_loss += loss\n",
    "        epoch_loss = epoch_loss / len(data[phase])\n",
    "        print('EPOCH: ', str(n), 'phase: ', phase, ' loss :', epoch_loss)"
   ]
  },
  {
   "cell_type": "code",
   "execution_count": 15,
   "metadata": {},
   "outputs": [
    {
     "ename": "ModuleNotFoundError",
     "evalue": "No module named 'matplotlib'",
     "output_type": "error",
     "traceback": [
      "\u001b[0;31m---------------------------------------------------------------------------\u001b[0m",
      "\u001b[0;31mModuleNotFoundError\u001b[0m                       Traceback (most recent call last)",
      "\u001b[0;32m<ipython-input-15-92145601edc4>\u001b[0m in \u001b[0;36m<module>\u001b[0;34m\u001b[0m\n\u001b[0;32m----> 1\u001b[0;31m \u001b[0;32mimport\u001b[0m \u001b[0mmatplotlib\u001b[0m\u001b[0;34m.\u001b[0m\u001b[0mpyplot\u001b[0m \u001b[0;32mas\u001b[0m \u001b[0mplt\u001b[0m\u001b[0;34m\u001b[0m\u001b[0;34m\u001b[0m\u001b[0m\n\u001b[0m\u001b[1;32m      2\u001b[0m \u001b[0mvalid_data_test\u001b[0m \u001b[0;34m=\u001b[0m \u001b[0mDataLoader\u001b[0m\u001b[0;34m(\u001b[0m\u001b[0mvalid_diff_rolling_window\u001b[0m \u001b[0;34m,\u001b[0m \u001b[0mbatch_size\u001b[0m\u001b[0;34m=\u001b[0m\u001b[0;36m1\u001b[0m\u001b[0;34m,\u001b[0m \u001b[0mcollate_fn\u001b[0m\u001b[0;34m=\u001b[0m\u001b[0mcollate_fn\u001b[0m\u001b[0;34m)\u001b[0m\u001b[0;34m\u001b[0m\u001b[0;34m\u001b[0m\u001b[0m\n\u001b[1;32m      3\u001b[0m \u001b[0;34m\u001b[0m\u001b[0m\n\u001b[1;32m      4\u001b[0m \u001b[0mprint\u001b[0m\u001b[0;34m(\u001b[0m\u001b[0;34m'-'\u001b[0m \u001b[0;34m*\u001b[0m \u001b[0;36m10\u001b[0m\u001b[0;34m)\u001b[0m\u001b[0;34m\u001b[0m\u001b[0;34m\u001b[0m\u001b[0m\n\u001b[1;32m      5\u001b[0m \u001b[0;34m\u001b[0m\u001b[0m\n",
      "\u001b[0;31mModuleNotFoundError\u001b[0m: No module named 'matplotlib'"
     ]
    }
   ],
   "source": [
    "import matplotlib.pyplot as plt\n",
    "valid_data_test = DataLoader(valid_diff_rolling_window , batch_size=1, collate_fn=collate_fn)\n",
    "\n",
    "print('-' * 10)\n",
    "\n",
    "epoch_loss = 0\n",
    "result = []\n",
    "ground_truth = []\n",
    "loss=0\n",
    "for x, y in valid_data_test:\n",
    "    train_outputs = model(x) # batch size x time steps x feature_num\n",
    "    loss = loss_function(train_outputs, y)\n",
    "    result.append(train_outputs.cpu())\n",
    "    ground_truth.append(y.cpu())\n",
    "    epoch_loss += loss\n",
    "epoch_loss = epoch_loss / len(valid_data_test)\n",
    "print('EPOCH: ', str(n), 'phase: ', phase, ' loss :', epoch_loss)\n"
   ]
  },
  {
   "cell_type": "code",
   "execution_count": 16,
   "metadata": {},
   "outputs": [
    {
     "ename": "NameError",
     "evalue": "name 'plt' is not defined",
     "output_type": "error",
     "traceback": [
      "\u001b[0;31m---------------------------------------------------------------------------\u001b[0m",
      "\u001b[0;31mNameError\u001b[0m                                 Traceback (most recent call last)",
      "\u001b[0;32m<ipython-input-16-25e5d59ef691>\u001b[0m in \u001b[0;36m<module>\u001b[0;34m\u001b[0m\n\u001b[0;32m----> 1\u001b[0;31m \u001b[0mplt\u001b[0m\u001b[0;34m.\u001b[0m\u001b[0mfigure\u001b[0m\u001b[0;34m(\u001b[0m\u001b[0mfigsize\u001b[0m\u001b[0;34m=\u001b[0m\u001b[0;34m(\u001b[0m\u001b[0;36m48\u001b[0m\u001b[0;34m,\u001b[0m \u001b[0;36m10\u001b[0m\u001b[0;34m)\u001b[0m\u001b[0;34m)\u001b[0m\u001b[0;34m\u001b[0m\u001b[0;34m\u001b[0m\u001b[0m\n\u001b[0m\u001b[1;32m      2\u001b[0m \u001b[0mplt\u001b[0m\u001b[0;34m.\u001b[0m\u001b[0mplot\u001b[0m\u001b[0;34m(\u001b[0m\u001b[0mresult\u001b[0m\u001b[0;34m[\u001b[0m\u001b[0;36m9\u001b[0m\u001b[0;34m*\u001b[0m\u001b[0mlen\u001b[0m\u001b[0;34m(\u001b[0m\u001b[0mresult\u001b[0m\u001b[0;34m)\u001b[0m\u001b[0;34m//\u001b[0m\u001b[0;36m10\u001b[0m\u001b[0;34m:\u001b[0m\u001b[0;34m]\u001b[0m\u001b[0;34m)\u001b[0m\u001b[0;34m\u001b[0m\u001b[0;34m\u001b[0m\u001b[0m\n\u001b[1;32m      3\u001b[0m \u001b[0mplt\u001b[0m\u001b[0;34m.\u001b[0m\u001b[0mplot\u001b[0m\u001b[0;34m(\u001b[0m\u001b[0mground_truth\u001b[0m\u001b[0;34m[\u001b[0m\u001b[0;36m9\u001b[0m\u001b[0;34m*\u001b[0m\u001b[0mlen\u001b[0m\u001b[0;34m(\u001b[0m\u001b[0mresult\u001b[0m\u001b[0;34m)\u001b[0m\u001b[0;34m//\u001b[0m\u001b[0;36m10\u001b[0m\u001b[0;34m:\u001b[0m\u001b[0;34m]\u001b[0m\u001b[0;34m)\u001b[0m\u001b[0;34m\u001b[0m\u001b[0;34m\u001b[0m\u001b[0m\n",
      "\u001b[0;31mNameError\u001b[0m: name 'plt' is not defined"
     ]
    }
   ],
   "source": [
    "plt.figure(figsize=(48, 10))\n",
    "plt.plot(result[9*len(result)//10:])\n",
    "plt.plot(ground_truth[9*len(result)//10:])"
   ]
  },
  {
   "cell_type": "code",
   "execution_count": null,
   "metadata": {},
   "outputs": [],
   "source": []
  },
  {
   "cell_type": "code",
   "execution_count": null,
   "metadata": {},
   "outputs": [],
   "source": []
  }
 ],
 "metadata": {
  "kernelspec": {
   "display_name": "Python 3",
   "language": "python",
   "name": "python3"
  },
  "language_info": {
   "codemirror_mode": {
    "name": "ipython",
    "version": 3
   },
   "file_extension": ".py",
   "mimetype": "text/x-python",
   "name": "python",
   "nbconvert_exporter": "python",
   "pygments_lexer": "ipython3",
   "version": "3.6.9"
  }
 },
 "nbformat": 4,
 "nbformat_minor": 4
}
